{
 "cells": [
  {
   "cell_type": "code",
   "execution_count": null,
   "id": "initial_id",
   "metadata": {
    "collapsed": true
   },
   "outputs": [],
   "source": [
    "import urllib\n",
    "from urllib import parse\n",
    "from sqlalchemy import create_engine, inspect\n",
    "import pandas as pd"
   ]
  },
  {
   "cell_type": "code",
   "outputs": [],
   "source": [
    "# Configurar a conexão com o banco de dados\n",
    "anos = [2014, 2015, 2016, 2017, 2018, 2019, 2020, 2021, 2022, 2023, 2024]\n",
    "user = 'root'\n",
    "password = 'root'\n",
    "host = 'localhost'\n",
    "database = 'python-sisagua'\n"
   ],
   "metadata": {
    "collapsed": false
   },
   "id": "2c4665d57fea18a8",
   "execution_count": null
  },
  {
   "cell_type": "code",
   "outputs": [],
   "source": [
    "# Codificar a senha\n",
    "senha_codificada = urllib.parse.quote(password)\n",
    "\n",
    "# Criar a URL de conexão\n",
    "url_conexao = f\"mariadb+mariadbconnector://root:{senha_codificada}@{host}:3306/{database}\"\n",
    "\n",
    "for ano in anos:\n",
    "    table_name = f'vigilancia_parametros_basicos_{ano}'\n",
    "    # Ler o arquivo CSV com o Pandas\n",
    "    file_path = f'data/{table_name}/{table_name}.csv'\n",
    "    df = pd.read_csv(file_path, sep=';', encoding='latin1')\n",
    "    # Inserir os dados no MySQL\n",
    "    df.to_sql(name='vigilancia_parametros_basicos', con=url_conexao, if_exists='append', method='multi', index=False, chunksize=1000)"
   ],
   "metadata": {
    "collapsed": false
   },
   "id": "cb8160ab3143118f",
   "execution_count": null
  },
  {
   "cell_type": "code",
   "outputs": [
    {
     "name": "stdout",
     "output_type": "stream",
     "text": [
      "['pontos_de_captacao', 'vigilancia_parametros_basicos_2014', 'vigilancia_parametros_basicos_2015', 'vigilancia_parametros_basicos_2016', 'vigilancia_parametros_basicos_2020', 'vigilancia_parametros_basicos_2021', 'vigilancia_parametros_basicos_2022', 'vigilancia_parametros_basicos_2023', 'vigilancia_parametros_basicos_2024']\n"
     ]
    }
   ],
   "source": [
    "# Criar o objeto da engine\n",
    "engine = create_engine(url_conexao, pool_recycle=3600)  # 1 hora de tempo de reciclagem\n",
    "inspector = inspect(engine)\n",
    "print(inspector.get_table_names())"
   ],
   "metadata": {
    "collapsed": false,
    "ExecuteTime": {
     "end_time": "2023-12-24T11:23:10.512758200Z",
     "start_time": "2023-12-24T11:23:10.498004500Z"
    }
   },
   "id": "ceb6335e3c6d1e8",
   "execution_count": 59
  },
  {
   "cell_type": "code",
   "outputs": [],
   "source": [],
   "metadata": {
    "collapsed": false
   },
   "id": "8f23c94deb269eb2"
  }
 ],
 "metadata": {
  "kernelspec": {
   "display_name": "Python 3",
   "language": "python",
   "name": "python3"
  },
  "language_info": {
   "codemirror_mode": {
    "name": "ipython",
    "version": 2
   },
   "file_extension": ".py",
   "mimetype": "text/x-python",
   "name": "python",
   "nbconvert_exporter": "python",
   "pygments_lexer": "ipython2",
   "version": "2.7.6"
  }
 },
 "nbformat": 4,
 "nbformat_minor": 5
}
