{
 "cells": [
  {
   "cell_type": "code",
   "execution_count": 4,
   "id": "initial_id",
   "metadata": {
    "collapsed": true,
    "ExecuteTime": {
     "end_time": "2023-12-24T02:47:39.544500800Z",
     "start_time": "2023-12-24T02:47:37.988708300Z"
    }
   },
   "outputs": [],
   "source": [
    "import urllib\n",
    "from urllib import parse\n",
    "import pandas as pd"
   ]
  },
  {
   "cell_type": "code",
   "outputs": [],
   "source": [
    "# Configurar a conexão com o banco de dados\n",
    "user = 'root'\n",
    "password = 'root'\n",
    "host = 'localhost'\n",
    "database = 'python-sisagua'\n",
    "table_name = 'vigilancia_parametros_basicos_2022'"
   ],
   "metadata": {
    "collapsed": false,
    "ExecuteTime": {
     "end_time": "2023-12-24T02:47:49.384234100Z",
     "start_time": "2023-12-24T02:47:49.375717500Z"
    }
   },
   "id": "2c4665d57fea18a8",
   "execution_count": 5
  },
  {
   "cell_type": "code",
   "outputs": [],
   "source": [
    "# Codificar a senha\n",
    "senha_codificada = urllib.parse.quote(\"root\")\n",
    "\n",
    "# Criar a URL de conexão\n",
    "url_conexao = f\"mariadb+mariadbconnector://root:{senha_codificada}@{host}:3306/{database}\"\n",
    "\n",
    "# Ler o arquivo CSV com o Pandas\n",
    "file_path = f'data/{table_name}/{table_name}.csv'\n",
    "df = pd.read_csv(file_path, sep=';', encoding='latin1')"
   ],
   "metadata": {
    "collapsed": false,
    "ExecuteTime": {
     "end_time": "2023-12-24T02:49:26.052116300Z",
     "start_time": "2023-12-24T02:48:31.132113100Z"
    }
   },
   "id": "cb8160ab3143118f",
   "execution_count": 6
  },
  {
   "cell_type": "code",
   "outputs": [
    {
     "data": {
      "text/plain": "-3089"
     },
     "execution_count": 8,
     "metadata": {},
     "output_type": "execute_result"
    }
   ],
   "source": [
    "# Inserir os dados no MySQL\n",
    "df.to_sql(name=table_name, con=url_conexao, if_exists='replace', index=False, chunksize=1000)"
   ],
   "metadata": {
    "collapsed": false,
    "ExecuteTime": {
     "end_time": "2023-12-24T03:07:47.402679200Z",
     "start_time": "2023-12-24T02:59:06.044279400Z"
    }
   },
   "id": "ceb6335e3c6d1e8",
   "execution_count": 8
  }
 ],
 "metadata": {
  "kernelspec": {
   "display_name": "Python 3",
   "language": "python",
   "name": "python3"
  },
  "language_info": {
   "codemirror_mode": {
    "name": "ipython",
    "version": 2
   },
   "file_extension": ".py",
   "mimetype": "text/x-python",
   "name": "python",
   "nbconvert_exporter": "python",
   "pygments_lexer": "ipython2",
   "version": "2.7.6"
  }
 },
 "nbformat": 4,
 "nbformat_minor": 5
}
