{
 "cells": [
  {
   "cell_type": "code",
   "execution_count": 4,
   "id": "initial_id",
   "metadata": {
    "collapsed": true,
    "ExecuteTime": {
     "end_time": "2023-12-24T02:47:39.544500800Z",
     "start_time": "2023-12-24T02:47:37.988708300Z"
    }
   },
   "outputs": [],
   "source": [
    "import urllib\n",
    "from urllib import parse\n",
    "import pandas as pd"
   ]
  },
  {
   "cell_type": "code",
   "outputs": [],
   "source": [
    "# Configurar a conexão com o banco de dados\n",
    "user = 'root'\n",
    "password = 'root'\n",
    "host = 'localhost'\n",
    "database = 'python-sisagua'\n",
    "table_name = 'vigilancia_parametros_basicos_2021'"
   ],
   "metadata": {
    "collapsed": false,
    "ExecuteTime": {
     "end_time": "2023-12-24T03:10:09.632894700Z",
     "start_time": "2023-12-24T03:10:09.102050400Z"
    }
   },
   "id": "2c4665d57fea18a8",
   "execution_count": 9
  },
  {
   "cell_type": "code",
   "outputs": [],
   "source": [
    "# Codificar a senha\n",
    "senha_codificada = urllib.parse.quote(password)\n",
    "\n",
    "# Criar a URL de conexão\n",
    "url_conexao = f\"mariadb+mariadbconnector://root:{senha_codificada}@{host}:3306/{database}\"\n",
    "\n",
    "# Ler o arquivo CSV com o Pandas\n",
    "file_path = f'data/{table_name}/{table_name}.csv'\n",
    "df = pd.read_csv(file_path, sep=';', encoding='latin1')"
   ],
   "metadata": {
    "collapsed": false,
    "ExecuteTime": {
     "end_time": "2023-12-24T03:11:20.025162300Z",
     "start_time": "2023-12-24T03:10:10.887579200Z"
    }
   },
   "id": "cb8160ab3143118f",
   "execution_count": 10
  },
  {
   "cell_type": "code",
   "outputs": [],
   "source": [
    "# Inserir os dados no MySQL\n",
    "df.to_sql(name=table_name, con=url_conexao, if_exists='replace', index=False, chunksize=1000)"
   ],
   "metadata": {
    "collapsed": false,
    "is_executing": true,
    "ExecuteTime": {
     "start_time": "2023-12-24T03:11:20.027174200Z"
    }
   },
   "id": "ceb6335e3c6d1e8",
   "execution_count": null
  },
  {
   "cell_type": "code",
   "outputs": [],
   "source": [],
   "metadata": {
    "collapsed": false
   },
   "id": "8f23c94deb269eb2"
  }
 ],
 "metadata": {
  "kernelspec": {
   "display_name": "Python 3",
   "language": "python",
   "name": "python3"
  },
  "language_info": {
   "codemirror_mode": {
    "name": "ipython",
    "version": 2
   },
   "file_extension": ".py",
   "mimetype": "text/x-python",
   "name": "python",
   "nbconvert_exporter": "python",
   "pygments_lexer": "ipython2",
   "version": "2.7.6"
  }
 },
 "nbformat": 4,
 "nbformat_minor": 5
}
