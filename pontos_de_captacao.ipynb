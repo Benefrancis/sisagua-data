{
 "cells": [
  {
   "cell_type": "code",
   "execution_count": null,
   "id": "initial_id",
   "metadata": {
    "collapsed": true,
    "is_executing": true
   },
   "outputs": [],
   "source": [
    "%pip install mariadb SQLAlchemy\n",
    "\n"
   ]
  },
  {
   "cell_type": "code",
   "outputs": [],
   "source": [
    "import pandas as pd\n",
    "import chardet\n",
    "import matplotlib.pyplot as plt\n",
    "import urllib.parse\n",
    "import sqlalchemy\n",
    "from sqlalchemy  import  create_engine, inspect, MetaData, Table, Column, Integer, String, DateTime, Float, ForeignKey, MetaData, text"
   ],
   "metadata": {
    "collapsed": false,
    "is_executing": true
   },
   "id": "46ba4e356384742c",
   "execution_count": null
  },
  {
   "cell_type": "code",
   "outputs": [],
   "source": [
    "url_pontos_captacao = 'data/cadastro_pontos_captacao/cadastro_pontos_captacao.csv'"
   ],
   "metadata": {
    "collapsed": false,
    "is_executing": true
   },
   "id": "6604879afb72e863",
   "execution_count": null
  },
  {
   "cell_type": "code",
   "outputs": [],
   "source": [
    "with open(url_pontos_captacao, 'rb') as file:\n",
    "    print(chardet.detect(file.read()))\n",
    "\n",
    "dados = pd.read_csv(url_pontos_captacao, encoding='ascii')\n"
   ],
   "metadata": {
    "collapsed": false,
    "is_executing": true
   },
   "id": "2fd0bb5ed1e7fc9a",
   "execution_count": null
  },
  {
   "cell_type": "code",
   "outputs": [],
   "source": [],
   "metadata": {
    "collapsed": false,
    "is_executing": true
   },
   "id": "e686dbba67e6243c"
  }
 ],
 "metadata": {
  "kernelspec": {
   "display_name": "Python 3",
   "language": "python",
   "name": "python3"
  },
  "language_info": {
   "codemirror_mode": {
    "name": "ipython",
    "version": 2
   },
   "file_extension": ".py",
   "mimetype": "text/x-python",
   "name": "python",
   "nbconvert_exporter": "python",
   "pygments_lexer": "ipython2",
   "version": "2.7.6"
  }
 },
 "nbformat": 4,
 "nbformat_minor": 5
}
